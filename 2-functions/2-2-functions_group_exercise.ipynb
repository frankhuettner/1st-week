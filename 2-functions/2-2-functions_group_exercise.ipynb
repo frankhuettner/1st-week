{
 "cells": [
  {
   "cell_type": "markdown",
   "metadata": {},
   "source": [
    "*Disclaimer: Github Copilot, ChatGPT or similar helpers are not allowed for this exercise.*"
   ]
  },
  {
   "cell_type": "markdown",
   "metadata": {},
   "source": [
    "## **Group Exercise:** Building Your Cash Conversion Cycle Calculator\n",
    "\n",
    "You will now build a Cash Conversion Cycle (CCC) calculator step by step.\n",
    "\n",
    "It's defined as CCC = DSO + DIO - DPO, where\n",
    "\n",
    "- Days Sales Outstanding (DSO) = 365 * Accounts Receivable / Revenue   \n",
    "\n",
    "- Days Inventory Outstanding (DIO) = 365 * Inventory / Cost of Goods Sold (COGS)\n",
    "\n",
    "- Days Payables Outstanding (DPO) = 365 * Accounts Payable / Cost of Goods Sold (COGS)\n",
    "\n",
    "Here's the plan. We'll create \n",
    "1. a function that computes DSO, \n",
    "2. a function that computes DIO, and \n",
    "3. a function that computes DPO. \n",
    "4. Then, we create a function that calls each of these functions to compute the CCC.\n",
    "\n",
    "Follow the instructions in each cell and run the code to see your results.\n",
    "\n",
    "\n",
    "#### 1. Days Sales Outstanding (DSO)"
   ]
  },
  {
   "cell_type": "code",
   "execution_count": null,
   "metadata": {},
   "outputs": [],
   "source": [
    "def calculate_dso(accounts_receivable, revenue):\n",
    "    \"\"\"\n",
    "    Calculate Days Sales Outstanding (DSO).\n",
    "    \"\"\"\n",
    "    # Your code here"
   ]
  },
  {
   "cell_type": "markdown",
   "metadata": {},
   "source": [
    "Test your DSO function:"
   ]
  },
  {
   "cell_type": "code",
   "execution_count": null,
   "metadata": {},
   "outputs": [],
   "source": [
    "appl_accounts_receivable = 28_184\n",
    "appl_revenue = 394_328\n",
    "appl_dso = calculate_dso(appl_accounts_receivable, appl_revenue)\n",
    "\n",
    "f\"Days Sales Outstanding (DSO): {appl_dso:.1f} days\""
   ]
  },
  {
   "cell_type": "markdown",
   "metadata": {},
   "source": [
    "### 2. Days Inventory Outstanding (DIO)\n",
    "\n",
    "Let me do that for you."
   ]
  },
  {
   "cell_type": "code",
   "execution_count": 19,
   "metadata": {},
   "outputs": [],
   "source": [
    "def calculate_dio(inventory, cost_of_goods_sold):\n",
    "    \"\"\"\n",
    "    Calculate Days Inventory Outstanding (DIO).\n",
    "    \"\"\"\n",
    "    return (inventory / cost_of_goods_sold) * 365"
   ]
  },
  {
   "cell_type": "markdown",
   "metadata": {},
   "source": [
    "Test the DIO function"
   ]
  },
  {
   "cell_type": "code",
   "execution_count": 20,
   "metadata": {},
   "outputs": [
    {
     "data": {
      "text/plain": [
       "'Days Inventory Outstanding (DIO): 73.0 days'"
      ]
     },
     "execution_count": 20,
     "metadata": {},
     "output_type": "execute_result"
    }
   ],
   "source": [
    "appl_inventory =  4_946\n",
    "appl_cogs = 223_546\n",
    "appl_dio = calculate_dio(appl_inventory, cogs)\n",
    "\n",
    "f\"Days Inventory Outstanding (DIO): {appl_dio:.1f} days\""
   ]
  },
  {
   "cell_type": "markdown",
   "metadata": {},
   "source": [
    "### 3. Days Payables Outstanding (DPO)\n",
    "Your turn."
   ]
  },
  {
   "cell_type": "code",
   "execution_count": 18,
   "metadata": {},
   "outputs": [],
   "source": [
    "def calculate_dpo(accounts_payable, cost_of_goods_sold):\n",
    "    \"\"\"\n",
    "    Calculate Days Payables Outstanding (DPO).\n",
    "    \"\"\"\n",
    "    # Your code here"
   ]
  },
  {
   "cell_type": "code",
   "execution_count": null,
   "metadata": {},
   "outputs": [],
   "source": [
    "# Test your DPO function\n",
    "appl_accounts_payable = 64_115\n",
    "appl_cogs = 223_546\n",
    "appl_dpo = calculate_dpo(appl_accounts_payable, appl_cogs)\n",
    "f\"Days Payables Outstanding (DPO): {appl_dpo:.1f} days\""
   ]
  },
  {
   "cell_type": "markdown",
   "metadata": {},
   "source": [
    "### 4. Cash Conversion Cycle (CCC)\n",
    "Finally, we put these things together."
   ]
  },
  {
   "cell_type": "code",
   "execution_count": null,
   "metadata": {},
   "outputs": [],
   "source": [
    "def calculate_ccc(accounts_payable, inventory, cost_of_goods_sold, inventory):\n",
    "    \"\"\"\n",
    "    Calculate the Cash Conversion Cycle (CCC).\n",
    "\n",
    "    Args:\n",
    "    accounts_payable (float): The amount of accounts payable.\n",
    "    inventory (float): The value of inventory.\n",
    "    cost_of_goods_sold (float): The cost of goods sold.\n",
    "    inventory (float): The value of inventory (duplicate parameter, consider removing).\n",
    "\n",
    "    Returns:\n",
    "    float: Cash Conversion Cycle in days.\n",
    "\n",
    "    Note:\n",
    "    The function calculates CCC using the formula:\n",
    "    CCC = Days Sales Outstanding (DSO) + Days Inventory Outstanding (DIO) - Days Payable Outstanding (DPO)\n",
    "    \"\"\"\n",
    "    # Your code here\n",
    "\n",
    "# Calculate the CCC\n",
    "appl_ccc = calculate_ccc(appl_dso, appl_dio, appl_dpo)\n",
    "f\"Cash Conversion Cycle (CCC): {appl_ccc:.1f} days\""
   ]
  },
  {
   "cell_type": "markdown",
   "metadata": {},
   "source": [
    "## Modification: Flexible CCC Calculator with optional arguments"
   ]
  },
  {
   "cell_type": "code",
   "execution_count": null,
   "metadata": {},
   "outputs": [],
   "source": [
    "def calculate_ccc(dso=None, dio=None, dpo=None, accounts_receivable=None, revenue=None, inventory=None, cogs=None, accounts_payable=None, days_in_year=365):\n",
    "    \"\"\"\n",
    "    Calculate the Cash Conversion Cycle (CCC).\n",
    "\n",
    "    This function calculates the Cash Conversion Cycle using either provided ratios (dso, dio, dpo) \n",
    "    or raw financial data. If both ratios and raw data are provided, priority is given to the ratios.\n",
    "\n",
    "    Parameters:\n",
    "    dso (float, optional): Days Sales Outstanding\n",
    "    dio (float, optional): Days Inventory Outstanding\n",
    "    dpo (float, optional): Days Payable Outstanding\n",
    "    accounts_receivable (float, optional): Accounts Receivable value\n",
    "    revenue (float, optional): Revenue value\n",
    "    inventory (float, optional): Inventory value\n",
    "    cogs (float, optional): Cost of Goods Sold value\n",
    "    accounts_payable (float, optional): Accounts Payable value\n",
    "    days_in_year (int, optional): Number of days in a year. Defaults to 365.\n",
    "\n",
    "    Returns:\n",
    "    float: Cash Conversion Cycle (CCC) value\n",
    "    or\n",
    "    str: Error message if required data is missing\n",
    "\n",
    "    Note:\n",
    "    - The function requires either the ratio (dso, dio, dpo) or the corresponding financial data for each component.\n",
    "    - If both ratio and financial data are provided for a component, the ratio takes precedence.\n",
    "    - The default value for days_in_year is 365, but can be adjusted if needed (e.g., for leap years or different accounting periods).\n",
    "    \"\"\"\n",
    "    if dso is None:\n",
    "        if accounts_receivable is None or revenue is None:\n",
    "            return \"Either dso or both accounts_receivable and revenue must be provided\"\n",
    "        dso = (accounts_receivable / revenue) * days_in_year\n",
    "        \n",
    "    \n",
    "    # fill in some lines about dio and dpo\n",
    "    \n",
    "\n",
    "    return dso + dio - dpo"
   ]
  }
 ],
 "metadata": {
  "kernelspec": {
   "display_name": "streamlit_prophet_env",
   "language": "python",
   "name": "python3"
  },
  "language_info": {
   "codemirror_mode": {
    "name": "ipython",
    "version": 3
   },
   "file_extension": ".py",
   "mimetype": "text/x-python",
   "name": "python",
   "nbconvert_exporter": "python",
   "pygments_lexer": "ipython3",
   "version": "3.9.19"
  }
 },
 "nbformat": 4,
 "nbformat_minor": 2
}
