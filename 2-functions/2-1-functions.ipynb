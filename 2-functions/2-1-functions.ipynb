{
 "cells": [
  {
   "cell_type": "markdown",
   "metadata": {},
   "source": [
    "# Functions\n",
    "This notebooks equips you with the skill 🔧 to write your own functions."
   ]
  },
  {
   "cell_type": "markdown",
   "metadata": {},
   "source": [
    "\n",
    "Retype the function below, execute the cell (so that the function is known to Python), and then call it:\n",
    "```python\n",
    "def f(x):\n",
    "    y = x + 1\n",
    "    return y\n"
   ]
  },
  {
   "cell_type": "code",
   "execution_count": 11,
   "metadata": {},
   "outputs": [],
   "source": [
    "# Your code here\n"
   ]
  },
  {
   "cell_type": "code",
   "execution_count": null,
   "metadata": {},
   "outputs": [],
   "source": [
    "f(41)"
   ]
  },
  {
   "cell_type": "markdown",
   "metadata": {},
   "source": [
    "How about?"
   ]
  },
  {
   "cell_type": "code",
   "execution_count": null,
   "metadata": {},
   "outputs": [],
   "source": [
    "def add_one(x):\n",
    "    return x + 1"
   ]
  },
  {
   "cell_type": "code",
   "execution_count": null,
   "metadata": {},
   "outputs": [],
   "source": [
    "add_one(41)"
   ]
  },
  {
   "cell_type": "markdown",
   "metadata": {},
   "source": [
    "You see, the symbol `f` was just a name of the function that we gave. It is common in mathematics, but not in in programming. Using `f` for the name of a function is bad, because ...?"
   ]
  },
  {
   "cell_type": "markdown",
   "metadata": {},
   "source": [
    "**Exercise:** Quintuple a Number\n",
    "\n",
    "Problem Statement: Write a function named `times_five` that takes a number as input and returns 5 times \n",
    "that number."
   ]
  },
  {
   "cell_type": "code",
   "execution_count": 6,
   "metadata": {},
   "outputs": [],
   "source": [
    "# Your code here"
   ]
  },
  {
   "cell_type": "code",
   "execution_count": null,
   "metadata": {},
   "outputs": [],
   "source": [
    "# Call it with \n",
    "times_five(10)"
   ]
  },
  {
   "cell_type": "code",
   "execution_count": null,
   "metadata": {},
   "outputs": [],
   "source": [
    "# Call it with \n",
    "times_five(\"🙌 \")"
   ]
  },
  {
   "cell_type": "markdown",
   "metadata": {},
   "source": [
    "Confusing? Try the following:"
   ]
  },
  {
   "cell_type": "code",
   "execution_count": null,
   "metadata": {},
   "outputs": [],
   "source": [
    "\"Say it twice! \" * 2"
   ]
  },
  {
   "cell_type": "markdown",
   "metadata": {},
   "source": [
    "### Excurse: Python's **f-string syntax**\n",
    "\n",
    "Do you remember the `f` in `f\"{name} in Wonderland\"`? That's **not** a function, but a syntax for *f*ormatting strings. Here, we cannot use a different symbol. It is not a name we give, but build in syntax of Python."
   ]
  },
  {
   "cell_type": "code",
   "execution_count": null,
   "metadata": {},
   "outputs": [],
   "source": [
    "name = \"Alice\""
   ]
  },
  {
   "cell_type": "code",
   "execution_count": null,
   "metadata": {},
   "outputs": [],
   "source": [
    "f\"{name} in Wonderland\""
   ]
  },
  {
   "cell_type": "markdown",
   "metadata": {},
   "source": [
    "f-strings are very useful in combinations with functions when we pass variables, which are strings and which will be combined with other strings."
   ]
  },
  {
   "cell_type": "markdown",
   "metadata": {},
   "source": [
    "### Your First Useful Function: The Office Excuse Generator"
   ]
  },
  {
   "cell_type": "code",
   "execution_count": null,
   "metadata": {},
   "outputs": [],
   "source": [
    "def generate_excuse(name):\n",
    "    return f\"{name} can't come to the meeting. The printer ate their report.\""
   ]
  },
  {
   "cell_type": "markdown",
   "metadata": {},
   "source": [
    "After defining the function, which of the following will work?\n",
    "\n",
    "a) `generate_excuse({name})`\n",
    "\n",
    "b) `generate_excuse(Frank)`\n",
    "\n",
    "c) `generate_excuse(\"Frank\")`\n",
    "\n",
    "d) `generate_excuse(name)`\n",
    "\n",
    "e) `generate_excuse(f\"{name}\")`"
   ]
  },
  {
   "cell_type": "markdown",
   "metadata": {},
   "source": [
    "### Set a **default**: Frank is the one who usually is late"
   ]
  },
  {
   "cell_type": "code",
   "execution_count": 23,
   "metadata": {},
   "outputs": [],
   "source": [
    "def generate_excuse_with_default(name=\"Frank\"):\n",
    "    return f\"{name} can't come to the meeting. The printer ate their report.\""
   ]
  },
  {
   "cell_type": "markdown",
   "metadata": {},
   "source": [
    "After defining the functions, which of the following will work?\n",
    "\n",
    "a) `generate_excuse()`\n",
    "\n",
    "b) `generate_excuse_with_default()`\n",
    "\n",
    "c) `generate_excuse(\"Frank\")`\n",
    "\n",
    "d) `generate_excuse(\"Bob\")`\n",
    "\n",
    "e) `generate_excuse_with_default(\"Bob\")`"
   ]
  },
  {
   "cell_type": "code",
   "execution_count": null,
   "metadata": {},
   "outputs": [],
   "source": [
    "# Your playing ground\n"
   ]
  },
  {
   "cell_type": "markdown",
   "metadata": {},
   "source": [
    "### Functions with **multiple parameters**  \n",
    "The Corporate Buzzword Mixer:"
   ]
  },
  {
   "cell_type": "code",
   "execution_count": 14,
   "metadata": {},
   "outputs": [],
   "source": [
    "def create_buzzword_phrase(adjective, noun, verb):\n",
    "    return f\"We need to {verb} our {adjective} {noun} to increase shareholder value.\""
   ]
  },
  {
   "cell_type": "markdown",
   "metadata": {},
   "source": [
    "Notice the order in which we pass and use the arguments. It's important to get it right when you pass them."
   ]
  },
  {
   "cell_type": "code",
   "execution_count": null,
   "metadata": {},
   "outputs": [],
   "source": [
    "create_buzzword_phrase(\"synergistic\", \"paradigms\", \"leverage\")"
   ]
  },
  {
   "cell_type": "markdown",
   "metadata": {},
   "source": [
    "**Exercise**: Compute the Cash Conversion Cycle (CCC) as CCC = DSO + DIO - DPO, where\n",
    "\n",
    "- Days Sales Outstanding (DSO) \n",
    "\n",
    "- Days Inventory Outstanding (DIO) \n",
    "\n",
    "- Days Payables Outstanding (DPO) "
   ]
  },
  {
   "cell_type": "code",
   "execution_count": null,
   "metadata": {},
   "outputs": [],
   "source": [
    "def ccc(dso, dio, dpo):\n",
    "    ccc = # complete\n",
    "    return ccc\n",
    "\n",
    "# Let's try it (should give -71)\n",
    "ccc(26, 8, 105)"
   ]
  },
  {
   "cell_type": "markdown",
   "metadata": {},
   "source": [
    "### **No arguments** is also possible\n",
    "This is common when creating random numbers."
   ]
  },
  {
   "cell_type": "code",
   "execution_count": null,
   "metadata": {},
   "outputs": [],
   "source": [
    "from random import random\n",
    "\n",
    "def generate_random_number_between_1_and_2():\n",
    "    random_number = random()\n",
    "    random_number = random_number + 1\n",
    "    return random_number"
   ]
  },
  {
   "cell_type": "markdown",
   "metadata": {},
   "source": [
    "Try to call the function a few times. What do you notice?"
   ]
  },
  {
   "cell_type": "code",
   "execution_count": null,
   "metadata": {},
   "outputs": [],
   "source": [
    "generate_random_number_between_1_and_2()"
   ]
  },
  {
   "cell_type": "markdown",
   "metadata": {},
   "source": [
    "**Exercise**: Write a function that uses `random.choice()` to select a random element from a list."
   ]
  },
  {
   "cell_type": "code",
   "execution_count": null,
   "metadata": {},
   "outputs": [],
   "source": [
    "def chosse_random_element(list):\n",
    "    random.choice(list)   # fix this line\n",
    "    return random_element\n",
    "\n",
    "# Let's try it\n",
    "nouns = [\"synergies\", \"paradigms\", \"strategies\", \"thought-leadership\"]\n",
    "chosse_random_element(nouns)"
   ]
  },
  {
   "cell_type": "markdown",
   "metadata": {},
   "source": [
    "### **No return** is also possible\n",
    "This is common for functions that just do something, like `print(...)`."
   ]
  },
  {
   "cell_type": "code",
   "execution_count": null,
   "metadata": {},
   "outputs": [],
   "source": [
    "return_value = print(\"What does print() return to me?\")"
   ]
  },
  {
   "cell_type": "code",
   "execution_count": null,
   "metadata": {},
   "outputs": [],
   "source": [
    "print(return_value)"
   ]
  },
  {
   "cell_type": "markdown",
   "metadata": {},
   "source": [
    "Another example are functions that modify some variable, like `list.append(...)`. Think of append() as a function that was made by the Python creators and stored in the directory called list (that's not what it is but a good enough model)."
   ]
  },
  {
   "cell_type": "code",
   "execution_count": null,
   "metadata": {},
   "outputs": [],
   "source": [
    "example_list = [1, 2, 3]\n",
    "\n",
    "return_value = list.append(example_list, 4)\n",
    "\n",
    "print(return_value)"
   ]
  },
  {
   "cell_type": "markdown",
   "metadata": {},
   "source": [
    "### Changing Variable in Functions\n",
    "\n",
    "Guess the result of the following code."
   ]
  },
  {
   "cell_type": "code",
   "execution_count": 2,
   "metadata": {},
   "outputs": [
    {
     "data": {
      "text/plain": [
       "1000"
      ]
     },
     "execution_count": 2,
     "metadata": {},
     "output_type": "execute_result"
    }
   ],
   "source": [
    "# Define a function\n",
    "def increase_by_10_000(cash_balance):\n",
    "    cash_balance = cash_balance + 10_000\n",
    "    return cash_balance\n",
    "    \n",
    "# Define a variable\n",
    "cash_balance = 1_000\n",
    "\n",
    "# Call the function \n",
    "increase_by_10_000(cash_balance)\n",
    "\n",
    "# What happened to the cash_balance?\n",
    "cash_balance"
   ]
  },
  {
   "cell_type": "markdown",
   "metadata": {},
   "source": [
    "Functions are like Las Vegas: What happens in the function, stays in the function. The `cash_balance` within the function is not the same as the `cash_balance` outside the function. Python kindly makes an **internal copy** of `cash_balance` and works on the copy. This internal `cash_balance` lives within the scope of that function. The outside `cash_balance` is not changed."
   ]
  },
  {
   "cell_type": "code",
   "execution_count": 3,
   "metadata": {},
   "outputs": [
    {
     "data": {
      "text/plain": [
       "11000"
      ]
     },
     "execution_count": 3,
     "metadata": {},
     "output_type": "execute_result"
    }
   ],
   "source": [
    "# Define a function\n",
    "def increase_by_10_000(cash_balance):\n",
    "    cash_balance = cash_balance + 10_000\n",
    "    return cash_balance\n",
    "    \n",
    "# Define a variable\n",
    "cash_balance = 1_000\n",
    "\n",
    "# Call the function \n",
    "cash_balance = increase_by_10_000(cash_balance)\n",
    "\n",
    "# What happened to the cash_balance?\n",
    "cash_balance"
   ]
  },
  {
   "cell_type": "markdown",
   "metadata": {},
   "source": [
    "What was different this time? `cash_balance = increase_by_10_000(cash_balance)` instead of `cash_balance`. Again, it was just a copy within the function, but this time we assigned the result to the original `cash_balancex`. This is a common pattern for self-defined function, easy to read and to understand, and transparent.\n",
    "\n",
    "**Exercise**: Write a function that takes a list and replaces the first element with a 0."
   ]
  },
  {
   "cell_type": "code",
   "execution_count": 9,
   "metadata": {},
   "outputs": [],
   "source": [
    "def set_1st_entry_to_zero(internal_list):\n",
    "    # your code here\n",
    "\n",
    "    return internal_list"
   ]
  },
  {
   "cell_type": "markdown",
   "metadata": {},
   "source": [
    "Let me go ahead and use the function you just created."
   ]
  },
  {
   "cell_type": "code",
   "execution_count": 10,
   "metadata": {},
   "outputs": [
    {
     "name": "stdout",
     "output_type": "stream",
     "text": [
      "[0, 0.7, 0.2]\n"
     ]
    }
   ],
   "source": [
    "portfolio_weights = [0.1, 0.7, 0.2]\n",
    "    \n",
    "returned_portfolio_weights = set_1st_entry_to_zero(portfolio_weights)\n",
    "    \n",
    "print(returned_portfolio_weights)"
   ]
  },
  {
   "cell_type": "markdown",
   "metadata": {},
   "source": [
    "So far, so good. Now let's have a look on our `portfolio_weights`. According to the idea of \"what happens in Vegas, stays in Vegas\", we would expect...?"
   ]
  },
  {
   "cell_type": "code",
   "execution_count": 11,
   "metadata": {},
   "outputs": [
    {
     "data": {
      "text/plain": [
       "[0, 0.7, 0.2]"
      ]
     },
     "execution_count": 11,
     "metadata": {},
     "output_type": "execute_result"
    }
   ],
   "source": [
    "portfolio_weights"
   ]
  },
  {
   "cell_type": "markdown",
   "metadata": {},
   "source": [
    "Oh boy, how is this possible? Didn't Python make an internal copy of the list within the function? Well, kind of, but not really. If you really want to know, have a conversation with ClaudeAI about lists, how they are saved, what it means to manipulate lists, and so on.\n",
    "\n",
    "*tl;dr*:  For composed variables like lists (or dictionaries etc.), Python makes a copy of the list (which is just a collection of links to the elements), but Python does not make copies of the elements. So if you change an element via your copied list, the original element is changed.\n",
    "\n",
    "**Therefore: Whenever we modify a list or dictionary within a function, we need to make a copy of the list or dictionary first. Otherwise, the original list or dictionary is changed and everybody get's angry. If you're not sure, make a copy.**"
   ]
  },
  {
   "cell_type": "code",
   "execution_count": 13,
   "metadata": {},
   "outputs": [
    {
     "data": {
      "text/plain": [
       "[0.1, 0.7, 0.2]"
      ]
     },
     "execution_count": 13,
     "metadata": {},
     "output_type": "execute_result"
    }
   ],
   "source": [
    "def set_1st_entry_to_zero(obtained_list):\n",
    "    # let's make a copy first\n",
    "    internal_list = obtained_list.copy()\n",
    "    internal_list[0] = 0\n",
    "    return internal_list\n",
    "\n",
    "portfolio_weights = [0.1, 0.7, 0.2]\n",
    "\n",
    "set_1st_entry_to_zero(portfolio_weights)\n",
    "\n",
    "portfolio_weights\n"
   ]
  },
  {
   "cell_type": "markdown",
   "metadata": {},
   "source": [
    "And if we want to change the portfolio_weights? Then we'll have it as with variable."
   ]
  },
  {
   "cell_type": "code",
   "execution_count": 14,
   "metadata": {},
   "outputs": [
    {
     "data": {
      "text/plain": [
       "[0, 0.7, 0.2]"
      ]
     },
     "execution_count": 14,
     "metadata": {},
     "output_type": "execute_result"
    }
   ],
   "source": [
    "portfolio_weights = set_1st_entry_to_zero(portfolio_weights)\n",
    "\n",
    "portfolio_weights"
   ]
  },
  {
   "cell_type": "markdown",
   "metadata": {},
   "source": [
    "This is easy to read and avoids errors 🐞"
   ]
  },
  {
   "cell_type": "markdown",
   "metadata": {},
   "source": [
    "### It's easy to forget the order of the arguments 👉 use their **names when calling** them"
   ]
  },
  {
   "cell_type": "markdown",
   "metadata": {},
   "source": [
    "Let's make another buzzword phrase:\n",
    "\n",
    "verb = \"ideate\"\n",
    "\n",
    "noun = \"thought-leadership\"\n",
    "\n",
    "adjective = \"disruptive\"\n",
    "\n",
    "Did you forget the order? No problem, we can use *keyword arguments* to make it clearer."
   ]
  },
  {
   "cell_type": "code",
   "execution_count": null,
   "metadata": {},
   "outputs": [],
   "source": [
    "create_buzzword_phrase(verb=\"ideate\", noun=\"thought-leadership\", adjective=\"disruptive\")"
   ]
  },
  {
   "cell_type": "markdown",
   "metadata": {},
   "source": [
    "**Exercise:** Rearrange the order of arguments in the last function call."
   ]
  },
  {
   "cell_type": "code",
   "execution_count": 2,
   "metadata": {},
   "outputs": [],
   "source": [
    "# Your answer"
   ]
  },
  {
   "cell_type": "markdown",
   "metadata": {},
   "source": [
    "### 🤩 Make people happy explaining what your function does: ***docstrings***\n",
    "\n",
    "Wasn't it nice to hover over the `create_buzzword_phrase` function and see what to input. Imagine to get an even more detailed explanation. This is possible with *docstrings*. \n",
    "\n",
    "You create them by adding a string right after the function definition (AI is pretty good at generating those)."
   ]
  },
  {
   "cell_type": "code",
   "execution_count": 17,
   "metadata": {},
   "outputs": [],
   "source": [
    "def create_buzzword_phrase(adjective, noun, verb):\n",
    "    \"\"\"\n",
    "    Generate a business buzzword phrase using the provided words.\n",
    "\n",
    "    This function creates a template buzzword phrase commonly used in corporate settings,\n",
    "    inserting the provided adjective, noun, and verb into a pre-defined sentence structure.\n",
    "\n",
    "    Args:\n",
    "        adjective (str): A descriptive word to qualify the noun.\n",
    "        noun (str): The main subject of the phrase.\n",
    "        verb (str): An action word to describe what needs to be done with the noun.\n",
    "\n",
    "    Returns:\n",
    "        str: A formatted buzzword phrase incorporating the input words.\n",
    "\n",
    "    Example:\n",
    "        >>> create_buzzword_phrase(\"synergistic\", \"paradigm\", \"leverage\")\n",
    "        \"We need to leverage our synergistic paradigm to increase shareholder value.\"\n",
    "    \"\"\"\n",
    "    return f\"We need to {verb} our {adjective} {noun} to increase shareholder value.\""
   ]
  },
  {
   "cell_type": "markdown",
   "metadata": {},
   "source": [
    "**Exercise:** What does `>>>` stand for?"
   ]
  },
  {
   "cell_type": "markdown",
   "metadata": {},
   "source": [
    "### Early exit with `return`\n",
    "It's common to have multiple return statement in a function. This is useful to check if the input is valid."
   ]
  },
  {
   "cell_type": "code",
   "execution_count": 5,
   "metadata": {},
   "outputs": [],
   "source": [
    "def divide_numbers(a, b):\n",
    "    if b == 0:\n",
    "        return \"Error: Division by zero\"⮑\n",
    "    return a / b"
   ]
  },
  {
   "cell_type": "code",
   "execution_count": null,
   "metadata": {},
   "outputs": [],
   "source": [
    "divide_numbers(1, 2)"
   ]
  },
  {
   "cell_type": "code",
   "execution_count": null,
   "metadata": {},
   "outputs": [],
   "source": [
    "divide_numbers(0, 2)"
   ]
  },
  {
   "cell_type": "code",
   "execution_count": null,
   "metadata": {},
   "outputs": [],
   "source": [
    "divide_numbers(1, 0)"
   ]
  },
  {
   "cell_type": "markdown",
   "metadata": {},
   "source": [
    "**Exercise:** Modifyify the `times_five()` function to check if the input is a number. If not, return an error message."
   ]
  },
  {
   "cell_type": "code",
   "execution_count": null,
   "metadata": {},
   "outputs": [],
   "source": [
    "def times_five(x):\n",
    "    # checks if x is a number\n",
    "    if not isinstance(x, (int, float)): \n",
    "        return \"Error: Input must be a number\"\n",
    "    # complete the function"
   ]
  },
  {
   "cell_type": "markdown",
   "metadata": {},
   "source": [
    "### It's possible to **combine functions 🔗**\n",
    "\n",
    "Let's make a function that selects a random buzzword from a list of buzzwords. Then we feed it into the buzzword phrase creator."
   ]
  },
  {
   "cell_type": "code",
   "execution_count": null,
   "metadata": {},
   "outputs": [],
   "source": [
    "def select_random_buzzword_adjective():\n",
    "    return random.choice([\"synergistic\", \"disruptive\", \"innovative\", \"strategic\"])"
   ]
  },
  {
   "cell_type": "code",
   "execution_count": null,
   "metadata": {},
   "outputs": [],
   "source": [
    "# Try me\n",
    "select_random_buzzword_adjective()"
   ]
  },
  {
   "cell_type": "code",
   "execution_count": null,
   "metadata": {},
   "outputs": [],
   "source": [
    "def meta_create_buzzword_phrase(noun, verb):\n",
    "    # First we call select_random_buzzword_adjective() to get a random adjective\n",
    "    random_adjective = # compelete this line\n",
    "    return f\"We need to {verb} our {random_adjective} {noun} to increase shareholder value.\""
   ]
  },
  {
   "cell_type": "code",
   "execution_count": null,
   "metadata": {},
   "outputs": [],
   "source": [
    "# Give it a try\n",
    "meta_create_buzzword_phrase(\"paradigm\", \"leverage\")"
   ]
  },
  {
   "cell_type": "markdown",
   "metadata": {},
   "source": [
    "Awesome, you just unlocked one of the most useful skills in programming! \n",
    "# 🎉🥳"
   ]
  }
 ],
 "metadata": {
  "kernelspec": {
   "display_name": "streamlit_prophet_env",
   "language": "python",
   "name": "python3"
  },
  "language_info": {
   "codemirror_mode": {
    "name": "ipython",
    "version": 3
   },
   "file_extension": ".py",
   "mimetype": "text/x-python",
   "name": "python",
   "nbconvert_exporter": "python",
   "pygments_lexer": "ipython3",
   "version": "3.9.19"
  }
 },
 "nbformat": 4,
 "nbformat_minor": 2
}
