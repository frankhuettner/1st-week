{
 "cells": [
  {
   "attachments": {},
   "cell_type": "markdown",
   "metadata": {
    "pycharm": {
     "name": "#%% md\n"
    }
   },
   "source": [
    "**Compute Financial Ratios using WRDS/S&P Compustat**"
   ]
  },
  {
   "cell_type": "code",
   "execution_count": 4,
   "metadata": {
    "pycharm": {
     "name": "#%%\n"
    }
   },
   "outputs": [],
   "source": [
    "# Import required libraries \n",
    "import pandas as pd\n",
    "from finance_lib_no_wrds import calculate_ccc, get_data_from_csv"
   ]
  },
  {
   "cell_type": "code",
   "execution_count": 5,
   "metadata": {
    "pycharm": {
     "name": "#%%\n"
    }
   },
   "outputs": [
    {
     "name": "stdout",
     "output_type": "stream",
     "text": [
      "     Unnamed: 0  gvkey   tic       conm    datadate        lt        at  \\\n",
      "210         210   1690  AAPL  APPLE INC  2010-09-30   27392.0   75183.0   \n",
      "211         211   1690  AAPL  APPLE INC  2011-09-30   39756.0  116371.0   \n",
      "212         212   1690  AAPL  APPLE INC  2012-09-30   57854.0  176064.0   \n",
      "213         213   1690  AAPL  APPLE INC  2013-09-30   83451.0  207000.0   \n",
      "214         214   1690  AAPL  APPLE INC  2014-09-30  120292.0  231839.0   \n",
      "215         215   1690  AAPL  APPLE INC  2015-09-30  171124.0  290479.0   \n",
      "216         216   1690  AAPL  APPLE INC  2016-09-30  193437.0  321686.0   \n",
      "217         217   1690  AAPL  APPLE INC  2017-09-30  241272.0  375319.0   \n",
      "218         218   1690  AAPL  APPLE INC  2018-09-30  258578.0  365725.0   \n",
      "219         219   1690  AAPL  APPLE INC  2019-09-30  248028.0  338516.0   \n",
      "220         220   1690  AAPL  APPLE INC  2020-09-30  258549.0  323888.0   \n",
      "221         221   1690  AAPL  APPLE INC  2021-09-30  287912.0  351002.0   \n",
      "222         222   1690  AAPL  APPLE INC  2022-09-30  302083.0  352755.0   \n",
      "223         223   1690  AAPL  APPLE INC  2023-09-30  290437.0  352583.0   \n",
      "\n",
      "          lct       act       seq  ...     oiadp    invt    ppent     wcap  \\\n",
      "210   20722.0   41678.0   47791.0  ...   18385.0  1051.0   4768.0  20956.0   \n",
      "211   27970.0   44988.0   76615.0  ...   33790.0   776.0   7777.0  17018.0   \n",
      "212   38542.0   57653.0  118210.0  ...   55241.0   791.0  15452.0  19111.0   \n",
      "213   43658.0   73286.0  123549.0  ...   48999.0  1764.0  16597.0  29628.0   \n",
      "214   63448.0   68531.0  111547.0  ...   52503.0  2111.0  20624.0   5083.0   \n",
      "215   80610.0   89378.0  119355.0  ...   71230.0  2349.0  22471.0   8768.0   \n",
      "216   79006.0  106869.0  128249.0  ...   59476.0  2132.0  27010.0  27863.0   \n",
      "217  100814.0  128645.0  134047.0  ...   61344.0  4855.0  33783.0  27831.0   \n",
      "218  116866.0  131339.0  107147.0  ...   70662.0  3956.0  41304.0  14473.0   \n",
      "219  105718.0  162819.0   90488.0  ...   63930.0  4106.0  37378.0  57101.0   \n",
      "220  105392.0  143713.0   65339.0  ...   66288.0  4061.0  45336.0  38321.0   \n",
      "221  125481.0  134836.0   63090.0  ...  108949.0  6580.0  49527.0   9355.0   \n",
      "222  153982.0  135405.0   50672.0  ...  119437.0  4946.0  52534.0 -18577.0   \n",
      "223  145308.0  143566.0   62146.0  ...  114301.0  6331.0  54376.0  -1742.0   \n",
      "\n",
      "          csho   prcc_f        re     rect       ap  year  \n",
      "210    915.970  283.750   37123.0   9924.0  12015.0  2010  \n",
      "211    929.277  381.320   63284.0  11717.0  14632.0  2011  \n",
      "212    939.208  667.105  101788.0  18692.0  21175.0  2012  \n",
      "213    899.213  476.750  103785.0  20641.0  22367.0  2013  \n",
      "214   5866.161  100.750   88234.0  27219.0  30196.0  2014  \n",
      "215   5578.753  110.300   91939.0  30343.0  35490.0  2015  \n",
      "216   5336.166  113.050   96998.0  29299.0  37294.0  2016  \n",
      "217   5126.201  154.120   98180.0  35673.0  49049.0  2017  \n",
      "218   4754.986  225.740   66946.0  48995.0  55888.0  2018  \n",
      "219   4443.236  223.970   45314.0  45804.0  46236.0  2019  \n",
      "220  16976.763  115.810   14560.0  37445.0  42296.0  2020  \n",
      "221  16426.786  141.500    5725.0  51506.0  54763.0  2021  \n",
      "222  15943.425  138.200  -14177.0  60932.0  64115.0  2022  \n",
      "223  15550.061  171.210  -11666.0  60985.0  62611.0  2023  \n",
      "\n",
      "[14 rows x 26 columns]\n"
     ]
    }
   ],
   "source": [
    "# Get data from csv file\n",
    "comp = get_data_from_csv('sp500_data.csv')\n",
    "\n",
    "# Filter for the stock of interest\n",
    "comp = comp[comp['tic'] == 'AAPL']\n",
    "\n",
    "# Inspect data\n",
    "print(comp)"
   ]
  },
  {
   "cell_type": "code",
   "execution_count": 6,
   "metadata": {
    "pycharm": {
     "name": "#%%\n"
    }
   },
   "outputs": [],
   "source": [
    "# Compute year from datadate\n",
    "comp['datadate'] = pd.to_datetime(comp['datadate']) #convert datadate to date fmt\n",
    "comp['year'] = comp['datadate'].dt.year #get year from datadate"
   ]
  },
  {
   "cell_type": "code",
   "execution_count": 7,
   "metadata": {
    "pycharm": {
     "name": "#%%\n"
    }
   },
   "outputs": [],
   "source": [
    "## Define Financial Metrics\n",
    "\n",
    "# Leverage Ratios\n",
    "comp['debt']=comp['dltt'] + comp['dlc'] # TOTAL DEBT = LONG TERM + SHORT TERM DEBT\n",
    "comp['de_ratio'] = comp['debt'] / comp['seq'] # D/E RATIO = TOTAL DEBT / TOTAL SHAREHOLDER'S EQUITY\n",
    "comp['da_ratio'] = comp['debt'] / comp['at'] # D/A RATIO = TOTAL DEBT / TOTAL ASSETS\n",
    "\n",
    "# Liquidity Ratios \n",
    "comp['current_ratio'] = comp['act'] / comp['lct'] # CURRENT RATIO = CURRENT ASSETS / CURRENT LIABILITIES\n",
    "comp['quick_ratio'] = (comp['act'] - comp['invt']) / comp['lct'] # QUICK RATIO = (CURRENT ASSETS-INVENTORY) / CURRENT LIABILITIES\n",
    "\n",
    "# Profitability Ratios \n",
    "comp['roa'] = comp['ni'] / comp['at'] # ROA = NET INCOME / TOTAL ASSETS\n",
    "comp['roe'] = comp['ni'] / comp['seq'] # ROE = NET INCOME / TOTAL SHAREHOLDER'S EQUITY\n",
    "comp['gross_margin'] = (comp['sale']-comp['cogs']) / comp['sale'] # GROSS MARGIN = (SALES - COGS)/ SALES\n",
    "comp['operating_margin'] = comp['oibdp'] / comp['sale'] # OPERATING MARGIN = OPERATING INCOME / SALES\n",
    "\n",
    "# Efficiency Ratios \n",
    "comp['lag_invt'] = comp.groupby('tic')['invt'].shift() # Compute Lag Inventory \n",
    "comp['avg_invt'] = (comp['invt'] + comp['lag_invt']) / 2 # Compute Average Inventory\n",
    "\n",
    "comp['days_in_inventory'] = comp['avg_invt'] / (comp['cogs'] / 360) # DAYS IN INVENTORY = AVERAGE INVENTORY / (COGS/360)\n",
    "comp['inventory_turns'] = 360 / comp['days_in_inventory'] # INVENTORY TURNS = 360 / DAYS IN INVENTORY\n",
    "\n",
    "comp['days_sales_outstanding'] = comp['rect'] / (comp['sale'] / 360) # DAYS SALES OUTSTANDING =  ACCOUNTS RECEIVABLE / (SALES/360)\n",
    "comp['days_payable_outstanding'] = comp['ap'] / (comp['cogs'] / 360) # DAYS PAYABLE OUTSTANDING = ACCOUNTS PAYABLE / (COSGS/360)\n",
    "\n",
    "comp['ppe_turnover'] = comp['sale'] / comp['ppent'] # PPE TURNOVER = SALES / PPE \n",
    "comp['asset_turnover'] = comp['sale'] / comp['at'] # ASSET TURNOVER = SALES / TOTAL ASSETS\n"
   ]
  },
  {
   "cell_type": "code",
   "execution_count": 8,
   "metadata": {},
   "outputs": [],
   "source": [
    "comp['cash_conversion_cycle'] = calculate_ccc(dio=comp['days_in_inventory'], dso=comp['days_sales_outstanding'], dpo=comp['days_payable_outstanding'])"
   ]
  },
  {
   "cell_type": "code",
   "execution_count": 9,
   "metadata": {
    "pycharm": {
     "name": "#%%\n"
    }
   },
   "outputs": [
    {
     "data": {
      "text/html": [
       "<div>\n",
       "<style scoped>\n",
       "    .dataframe tbody tr th:only-of-type {\n",
       "        vertical-align: middle;\n",
       "    }\n",
       "\n",
       "    .dataframe tbody tr th {\n",
       "        vertical-align: top;\n",
       "    }\n",
       "\n",
       "    .dataframe thead th {\n",
       "        text-align: right;\n",
       "    }\n",
       "</style>\n",
       "<table border=\"1\" class=\"dataframe\">\n",
       "  <thead>\n",
       "    <tr style=\"text-align: right;\">\n",
       "      <th></th>\n",
       "      <th>Unnamed: 0</th>\n",
       "      <th>gvkey</th>\n",
       "      <th>tic</th>\n",
       "      <th>conm</th>\n",
       "      <th>datadate</th>\n",
       "      <th>lt</th>\n",
       "      <th>at</th>\n",
       "      <th>lct</th>\n",
       "      <th>act</th>\n",
       "      <th>seq</th>\n",
       "      <th>...</th>\n",
       "      <th>operating_margin</th>\n",
       "      <th>lag_invt</th>\n",
       "      <th>avg_invt</th>\n",
       "      <th>days_in_inventory</th>\n",
       "      <th>inventory_turns</th>\n",
       "      <th>days_sales_outstanding</th>\n",
       "      <th>days_payable_outstanding</th>\n",
       "      <th>ppe_turnover</th>\n",
       "      <th>asset_turnover</th>\n",
       "      <th>cash_conversion_cycle</th>\n",
       "    </tr>\n",
       "  </thead>\n",
       "  <tbody>\n",
       "    <tr>\n",
       "      <th>223</th>\n",
       "      <td>223</td>\n",
       "      <td>1690</td>\n",
       "      <td>AAPL</td>\n",
       "      <td>APPLE INC</td>\n",
       "      <td>2023-09-30</td>\n",
       "      <td>290437.0</td>\n",
       "      <td>352583.0</td>\n",
       "      <td>145308.0</td>\n",
       "      <td>143566.0</td>\n",
       "      <td>62146.0</td>\n",
       "      <td>...</td>\n",
       "      <td>0.320391</td>\n",
       "      <td>4946.0</td>\n",
       "      <td>5638.5</td>\n",
       "      <td>9.871084</td>\n",
       "      <td>36.470161</td>\n",
       "      <td>57.280092</td>\n",
       "      <td>109.61043</td>\n",
       "      <td>7.04879</td>\n",
       "      <td>1.087077</td>\n",
       "      <td>-42.459255</td>\n",
       "    </tr>\n",
       "  </tbody>\n",
       "</table>\n",
       "<p>1 rows × 44 columns</p>\n",
       "</div>"
      ],
      "text/plain": [
       "     Unnamed: 0  gvkey   tic       conm   datadate        lt        at  \\\n",
       "223         223   1690  AAPL  APPLE INC 2023-09-30  290437.0  352583.0   \n",
       "\n",
       "          lct       act      seq  ...  operating_margin  lag_invt  avg_invt  \\\n",
       "223  145308.0  143566.0  62146.0  ...          0.320391    4946.0    5638.5   \n",
       "\n",
       "     days_in_inventory  inventory_turns  days_sales_outstanding  \\\n",
       "223           9.871084        36.470161               57.280092   \n",
       "\n",
       "     days_payable_outstanding  ppe_turnover  asset_turnover  \\\n",
       "223                 109.61043       7.04879        1.087077   \n",
       "\n",
       "     cash_conversion_cycle  \n",
       "223             -42.459255  \n",
       "\n",
       "[1 rows x 44 columns]"
      ]
     },
     "execution_count": 9,
     "metadata": {},
     "output_type": "execute_result"
    }
   ],
   "source": [
    "# View last available values\n",
    "comp.sort_values('datadate').groupby('tic').tail(1)"
   ]
  },
  {
   "cell_type": "code",
   "execution_count": null,
   "metadata": {},
   "outputs": [],
   "source": []
  }
 ],
 "metadata": {
  "kernelspec": {
   "display_name": "streamlit_prophet_env",
   "language": "python",
   "name": "python3"
  },
  "language_info": {
   "codemirror_mode": {
    "name": "ipython",
    "version": 3
   },
   "file_extension": ".py",
   "mimetype": "text/x-python",
   "name": "python",
   "nbconvert_exporter": "python",
   "pygments_lexer": "ipython3",
   "version": "3.9.19"
  }
 },
 "nbformat": 4,
 "nbformat_minor": 4
}
